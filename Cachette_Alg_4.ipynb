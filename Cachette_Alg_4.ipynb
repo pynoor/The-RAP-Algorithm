{
 "cells": [
  {
   "cell_type": "raw",
   "id": "3d9fd524",
   "metadata": {},
   "source": [
    "First we will need a package manager to load a variety of functions that we will need further down the code.\n",
    "This package manager is called \"Pkg\", we launch it by using the command \"using Pkg\"\n",
    "Then we load all of the packages necessary for the algorithm.\n",
    "- We need \"IJulia\" to be able to use Julia in this Jupyter Notebook.\n",
    "- XLSX will allow us to load data from our excel file into the code.\n",
    "- OSCAR (Open Source Computer Algebra Research) is a powerful computer algebra system which will allow us to build and handle polynomial rings and other algebraic structures.\n",
    "We launch OSCAR by calling the command \"using Oscar\".\n"
   ]
  },
  {
   "cell_type": "code",
   "execution_count": null,
   "id": "b3c29bba",
   "metadata": {
    "tags": []
   },
   "outputs": [],
   "source": [
    "using Pkg\n",
    "Pkg.add(\"IJulia\")\n",
    "Pkg.add(\"XLSX\")\n",
    "Pkg.add(\"Oscar\")\n",
    "import XLSX\n",
    "using Oscar"
   ]
  },
  {
   "cell_type": "markdown",
   "id": "ed32f892-89fa-4cac-bad4-2856fe00f7c4",
   "metadata": {},
   "source": [
    "Next, we need to build our algebraic structure, i.e., our Polynomial Ring.\n",
    "We map the variable R1 to an object of abstract type residue ring of integers modulo 2, i.e. {0,1}.\n",
    "Then, we construct a multivariate polynomial ring myR in (A, B, C, D, E, F, G) over integers.\n",
    "The vector of strings [\"C\", \"AH\", \"PD\", \"G\", \"L\", \"P\", \"D\"] as argument of the PolynomialRing constructor defines how our generating values A, B, C, D, E, F, G should be printed. We will later select the object properties matching these strings (i.e. \"C\" = complete; \"AH\" = amputated head; ...) from the excel sheet.\n",
    "We assign the list of atoms (generator variables) in myR to a variable myvars.\n",
    "\n",
    "? can i Use \"B\" like in the text, instead of \"myR\"? no bcuz b is the boolean alg and we dont have the bool eigenschaft yet"
   ]
  },
  {
   "cell_type": "code",
   "execution_count": null,
   "id": "ade8e6f6",
   "metadata": {
    "tags": []
   },
   "outputs": [],
   "source": [
    "R1 = ResidueRing(ZZ, 2);\n",
    "myR, (A, B, C, D, E, F, G, H, I, J, K, L, M, N, O, P) = PolynomialRing(R1, [\"C\", \"A\", \"AH\", \"MH\", \"PA\", \"PD\", \"LD\", \"DI\", \"F\", \"G\", \"L\", \"S\", \"SI\", \"P\", \"R\", \"D\"]);\n",
    "myvars=[A, B, C, D, E, F, G, H, I, J, K, L, M, N, O, P];"
   ]
  },
  {
   "cell_type": "markdown",
   "id": "056e63f9-f5ce-4914-9c06-01ff873fdcb2",
   "metadata": {},
   "source": [
    "From the excel file named \"Cachette_Matrix_fuer_Noor.xlsx\", we extract the information about each object in the Cachette. By information we mean, that for each object, we get a list of values in {0,1}, with 0 meaning the object does not have a specific object property and \"1\" meaning it does.\n",
    "The variable chartable is thus in a form of an 333x16 array, for 333 objects and their {0,1} value for 16 object properties as shown below:\n",
    "*insert pic*\n",
    "We assign the variable \"indices\" to the numbers 1 through 333 to be able to access each object by it's position in the table.\n",
    "i.e., with indice 1, we access the first object, with indice 2 the second and so on..."
   ]
  },
  {
   "cell_type": "code",
   "execution_count": null,
   "id": "8b3b28e6",
   "metadata": {
    "tags": []
   },
   "outputs": [],
   "source": [
    "chartable=XLSX.readdata(\"Cachette_Matrix_fuer_Noor.xlsx\", \"Sheet1\", \"A2:P334\");\n",
    "indices=1:333;"
   ]
  },
  {
   "cell_type": "markdown",
   "id": "7e568d5c-4fd1-41b5-867d-b6d584453261",
   "metadata": {},
   "source": [
    "Now we want to select from those object properties, the 7 properties that should be the generating objects of our polynomial ring. Later on we can change which object properties we want to use by switching out the integers in  \"choice\".\n",
    "**varnum** refers to the amount of properties (i.e. the columns in the excel sheet) we select.\n",
    "**choice** is an array of the integers refering to the columns in our excel sheet/chartable we want to select.\n",
    "1 will select column 1 of the chartable, referring to the object property in the first column of the excel sheet\n",
    "3 will select column 3 in the chartable, referring to the object property in the 3rd coloumn of the excel sheet\n",
    "etc."
   ]
  },
  {
   "cell_type": "code",
   "execution_count": null,
   "id": "8ddfe1dc",
   "metadata": {
    "tags": []
   },
   "outputs": [],
   "source": [
    "varnum=16; choice=[1,2,3,4,5,6,7,8,9,10,11,12,13,14,15,16]; "
   ]
  },
  {
   "cell_type": "markdown",
   "id": "06186bbd-213f-4277-b17a-45a144e89268",
   "metadata": {},
   "source": [
    "<p>We reassign **chartable** to the selection of columns according to our selection in \"choice\". We thus get a 333:7 array of objects and their {0,1} charactarization according to the 7 selected object properties (which here are column 1, 3, 6, 19, 10, 11, 14 and 16 but can be switched out to analyze patterns and rules in a different set of object properties.)\n",
    "We start building a list of object polynomials **expr_list** by ... for each object i.</p>\n",
    "<p>chartable[i,:] selects the list of 0,1 xistics for object i.<br>\n",
    "e.g., <br>\n",
    "for the first object the following operation is performed to get its polynomial expression:<br>\n",
    "prod([A,B,C,D,E,F,G]+ [A,B,C,D,E,F,G]^0 - [0,0,1,1,0,0,1]) = prod ([A,B,C,D,E,F,G]+[1,1,1,1,1,1,1]-[0,0,1,1,0,0,1]) <br>\n",
    "                                                     = (A+1) * (B+1) * (C+1-1) * (D+1-1) * (E+1) * (F+1) * (G+1-1) <br>\n",
    "                                                     = (A+1) * (B+1) * C * D * (E+1) * (F+1) * G <br>\n",
    "We then iterate through the remainder of the objects and extend **expr_list** to get a list of all object polynomials.</p>"
   ]
  },
  {
   "cell_type": "code",
   "execution_count": null,
   "id": "5e656afc",
   "metadata": {
    "tags": []
   },
   "outputs": [],
   "source": [
    "chartable=chartable[:,choice];\n",
    "expr_list=prod(myvars+ myvars.^0 -chartable[1,:]); \n",
    "for i=2:size(chartable,1)\n",
    "    expr_list=vcat(expr_list, prod(myvars+ myvars.^0 -chartable[i,:])); \n",
    "end\n",
    "expr_list;"
   ]
  },
  {
   "cell_type": "markdown",
   "id": "8fbae852-8cae-4003-9d2e-7577c7ad1f67",
   "metadata": {},
   "source": [
    "We then compute the weights of the object properties. (we will need them later in the generation of the Gröbner basis)\n",
    "We first create an array of ones of length 7 (varnum). We then iterate through the list of properties to print out the sum of objects that do have the property (\"true=\"), - i.e. the value for that object in the column of said object property is 1 - and the sum of objects that do not have the property (\"false=\").\n",
    "Finally, we calculate the weight for the specific object property by multiplying the sum of the values in the respective column by the difference between the amount of objects in total and the sum of the values in the respective column)\n",
    "i.e., <br>\n",
    "let sum_i = sum of values (0 or 1) for all the objects of property i <br>\n",
    "    nr_of_objects = number of objects on chartable <br>\n",
    "then the weight of object property i = sum_i * (nr_of_objects - sum_i)\n",
    "\n",
    "We then add each weight to the array of ones **monweight** that we created\n"
   ]
  },
  {
   "cell_type": "code",
   "execution_count": null,
   "id": "e48dbe56",
   "metadata": {
    "tags": []
   },
   "outputs": [],
   "source": [
    "monweight=ones(Int,varnum);\n",
    "for i=1:size(myvars,1)\n",
    "    print(myvars[i]);\n",
    "    print(\" true=\");\n",
    "    print(sum(chartable[:,i]));\n",
    "    print(\" false=\");\n",
    "    print(size(chartable,1)-sum(chartable[:,i]));\n",
    "    print(\"\\n\");\n",
    "    monweight[i]=sum(chartable[:,i])*(size(chartable,1)-sum(chartable[:,i]));\n",
    "end\n",
    "monweight"
   ]
  },
  {
   "cell_type": "markdown",
   "id": "b6e07d65-279e-41f8-a796-0fd826a85b8b",
   "metadata": {},
   "source": [
    "We now want to get the union of all polynomial expressions. Normally the union of two objects A, B is computed by A+B+(A\\*B).\n",
    "However, since A\\*A = 0 and A+A = A; instead of creating the union of all polynomial expressions, we can also find the list of all **unique** polynomial expressions first, then just add them and get the same result. \n",
    "In that light, from our list of expressions of our objects, we now want to generate the list of unique expressions, **uq_expr_list**.\n",
    "We then add these unique expressions (sum(uq_expr_list)). This union includes everything that has been observed.\n",
    "To get the expression that includes everything that has **not** been observed, we need to take the complement of said union, by adding \"1\". <br>\n",
    "(1 here is equal to the union of A,B,C,D,E,F,G))\n",
    "We assign the result to variable **expr**.<br>\n",
    "So far, we have created a residual ring but it still lacks the boolean property.\n",
    "We begin building our generator by including all expressions that describe the boolean property, i.e. idempotency:<br>\n",
    "In \"myvars.^2+myvars\", we generate all expressions (A\\*A)+A (because if (A\\*A)+A is in the ideal, then (A\\*A)+A = 0 and therefore A\\*A = A which is idempotency). We assign these expressions to the variable **generator** <br>\n",
    "We then build our ideal **II**, of myR generated by *vcat(generator, expr)*, which is the union of everything that has not been observed and all the expressions of idempotency.<br>\n",
    "\n",
    "quo(myR, II) will return the quotient Y of the module myR by the module II and the canonical quotient map from myR to Y.<br>\n",
    "\n",
    "We then construct the Gröbner basis of the ideal II with respect to the ordering defined by \"wdeglex((gens(myR), monweight)\"<br>\n",
    "wdeglex((gens(myR), monweight) returns the corresponding weighted lexicographical ordering on the set of monomials in the variables of myR.\n"
   ]
  },
  {
   "cell_type": "code",
   "execution_count": null,
   "id": "329b8d8a",
   "metadata": {
    "tags": []
   },
   "outputs": [],
   "source": [
    "uq_expr_list=unique(expr_list);\n",
    "expr=sum(uq_expr_list)+1;\n",
    "generator=myvars.^2+myvars; II=ideal(myR, vcat(generator, expr));\n",
    "Y, m = quo(myR, II);\n",
    "GB = groebner_basis(II, ordering = wdeglex(gens(myR),monweight))"
   ]
  },
  {
   "cell_type": "markdown",
   "id": "add5b9b9-d75e-4cb0-bc8f-a06506b4e2b3",
   "metadata": {},
   "source": [
    "Here we are printing out ..."
   ]
  },
  {
   "cell_type": "code",
   "execution_count": null,
   "id": "61beb4d5",
   "metadata": {
    "tags": []
   },
   "outputs": [],
   "source": [
    "for i = 1:size(uq_expr_list,1)\n",
    "    res=normal_form(uq_expr_list[i],gens(GB));\n",
    "    counter=0;\n",
    "    for j = 1:size(expr_list,1)\n",
    "        if (uq_expr_list[i]==expr_list[j])\n",
    "            counter=counter+1;\n",
    "            printstyled(indices[j], color=:red);\n",
    "            print(\" \");\n",
    "        end\n",
    "    end\n",
    "    printstyled(\" (#\", color=:red);\n",
    "    printstyled(counter, color=:red);\n",
    "    printstyled(\")\", color=:red);\n",
    "    print(\"\\n\");\n",
    "    printstyled(factor(uq_expr_list[i]), color=:green);\n",
    "    wrtnorm=0;\n",
    "    if (wrtnorm==1)\n",
    "        printstyled(\"=\\n\", color=:green);\n",
    "        printstyled(uq_expr_list[i], color=:green);\n",
    "    end\n",
    "    print(\"\\n\");\n",
    "    printstyled(res, bold=:true);\n",
    "    print(\"\\n\\n\");\n",
    "end"
   ]
  },
  {
   "cell_type": "code",
   "execution_count": null,
   "id": "a581847a",
   "metadata": {
    "tags": []
   },
   "outputs": [],
   "source": [
    "selection=F*B+A*B*F;\n",
    "for i = 1:size(uq_expr_list,1)\n",
    "    res=normal_form(uq_expr_list[i].*selection, gens(GB));\n",
    "    counter=0;\n",
    "    for j = 1:size(expr_list,1)\n",
    "        if (uq_expr_list[i]==expr_list[j])\n",
    "            counter=counter+1;\n",
    "            printstyled(indices[j], color=:red);\n",
    "            print(\" \");\n",
    "        end\n",
    "    end\n",
    "    printstyled(\" (#\", color=:red);\n",
    "    printstyled(counter, color=:red);\n",
    "    printstyled(\")\", color=:red);\n",
    "    print(\"\\n\");\n",
    "    printstyled(factor(uq_expr_list[i]), color=:green);\n",
    "    wrtnorm=0;\n",
    "    if (wrtnorm==1)\n",
    "        printstyled(\"=\\n\", color=:green);\n",
    "        printstyled(uq_expr_list[i], color=:green);\n",
    "    end\n",
    "    print(\"\\n\");\n",
    "    printstyled(res, bold=:true);\n",
    "    print(\"\\n\\n\");\n",
    "end"
   ]
  },
  {
   "cell_type": "code",
   "execution_count": null,
   "id": "c6dd32f2",
   "metadata": {
    "tags": []
   },
   "outputs": [],
   "source": []
  },
  {
   "cell_type": "code",
   "execution_count": null,
   "id": "cf23581a",
   "metadata": {},
   "outputs": [],
   "source": []
  },
  {
   "cell_type": "code",
   "execution_count": null,
   "id": "829f4298-1ef9-4c59-8819-d70133f61f65",
   "metadata": {},
   "outputs": [],
   "source": []
  }
 ],
 "metadata": {
  "kernelspec": {
   "display_name": "Julia 1.8.5",
   "language": "julia",
   "name": "julia-1.8"
  },
  "language_info": {
   "file_extension": ".jl",
   "mimetype": "application/julia",
   "name": "julia",
   "version": "1.8.5"
  }
 },
 "nbformat": 4,
 "nbformat_minor": 5
}
